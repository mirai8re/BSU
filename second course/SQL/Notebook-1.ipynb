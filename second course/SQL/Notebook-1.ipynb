{
    "metadata": {
        "kernelspec": {
            "name": "SQL",
            "display_name": "SQL",
            "language": "sql"
        },
        "language_info": {
            "name": "sql",
            "version": ""
        }
    },
    "nbformat_minor": 2,
    "nbformat": 4,
    "cells": [
        {
            "cell_type": "code",
            "source": [
                "USE master;\n",
                "GO\n",
                "CREATE LOGIN Ucheb_7_Mironova\n",
                "WITH PASSWORD = '<vredina27>';"
            ],
            "metadata": {
                "azdata_cell_guid": "c596fce5-739f-4190-a7f3-9ffe567ae4fc",
                "language": "sql",
                "tags": []
            },
            "outputs": [
                {
                    "output_type": "display_data",
                    "data": {
                        "text/html": "Commands completed successfully."
                    },
                    "metadata": {}
                },
                {
                    "output_type": "error",
                    "ename": "",
                    "evalue": "Msg 15025, Level 16, State 1, Line 3\nThe server principal 'Ucheb_7_Mironova' already exists.",
                    "traceback": []
                },
                {
                    "output_type": "display_data",
                    "data": {
                        "text/html": "Total execution time: 00:00:00.151"
                    },
                    "metadata": {}
                }
            ],
            "execution_count": 2
        }
    ]
}